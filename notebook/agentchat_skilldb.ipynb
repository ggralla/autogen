{
 "cells": [
  {
   "cell_type": "code",
   "execution_count": null,
   "metadata": {},
   "outputs": [],
   "source": [
    "%pip install \"pyautogen[teachable]\"\n",
    "%pip install pysqlite3-binary"
   ]
  },
  {
   "cell_type": "code",
   "execution_count": null,
   "metadata": {},
   "outputs": [],
   "source": [
    "# Hack to use newer sqlite3 version for chromadb compatibility\n",
    "\n",
    "__import__('pysqlite3')\n",
    "import sys\n",
    "sys.modules['sqlite3'] = sys.modules.pop('pysqlite3')\n",
    "\n",
    "\n",
    "from autogen.agentchat.contrib.skilled_agent import SkilledAgent\n",
    "from autogen import UserProxyAgent\n",
    "import autogen\n",
    "\n",
    "config_list = autogen.config_list_from_json(\n",
    "    \"OAI_CONFIG_LIST\",\n",
    "    filter_dict={\n",
    "        \"model\": [\"gpt-3.5-turbo-1106\"],\n",
    "    },\n",
    ")\n",
    "\n",
    "llm_config = {\n",
    "    \"config_list\": config_list,\n",
    "    \"timeout\": 60,\n",
    "    \"cache_seed\": None,  # Use an int to seed the response cache. Use None to disable caching.\n",
    "}\n",
    "\n",
    "teach_config={\n",
    "    \"verbosity\": 2,  # 0 for basic info, 1 to add memory operations, 2 for analyzer messages, 3 for memo lists.\n",
    "    \"reset_db\": False,  # Set to True to start over with an empty database.\n",
    "    \"path_to_db_dir\": \"./tmp/notebook/teachable_agent_db\",  # Path to the directory where the database will be stored.\n",
    "    \"recall_threshold\": 1.5,  # Higher numbers allow more (but less relevant) memos to be recalled.\n",
    "}\n",
    "\n",
    "    \n",
    "skilled_agent = SkilledAgent(\n",
    "    name=\"skilledAGENT\",\n",
    "    llm_config=llm_config,\n",
    "    memory_config=teach_config)\n",
    "\n",
    "user_proxy = UserProxyAgent(\n",
    "    name=\"user\",\n",
    "    human_input_mode=\"NEVER\",\n",
    "    is_termination_msg=lambda x: True if \"TERMINATE\" in x.get(\"content\") else False,\n",
    "    max_consecutive_auto_reply=3,\n",
    ")"
   ]
  },
  {
   "cell_type": "code",
   "execution_count": null,
   "metadata": {},
   "outputs": [],
   "source": [
    "# Perform skill\n",
    "task = \"get all the cards from a given MTG set (example KTK), using the Scryfall API\"\n",
    "skill_prompt=f\"\"\"Write python code to {task}. Confirm the code is working and produces the correct output\"\"\"\n",
    "user_proxy.initiate_chat(\n",
    "    skilled_agent,\n",
    "    message=skill_prompt,\n",
    ")"
   ]
  },
  {
   "cell_type": "code",
   "execution_count": null,
   "metadata": {},
   "outputs": [],
   "source": [
    "# Reflect and refactor skill - needed?\n",
    "task4 = \"\"\"Reflect on the sequence and refactor a into well-documented, generalized python function\n",
    "to perform similar tasks for coding steps in future. Don't include any code outside of the function definition\"\"\"\n",
    "user_proxy.initiate_chat(skilled_agent, message=task4, clear_history=False) \n"
   ]
  },
  {
   "cell_type": "code",
   "execution_count": null,
   "metadata": {},
   "outputs": [],
   "source": [
    "skill = skilled_agent.generated_functions[-1]\n",
    "print(f\"Learned the following skill:\\n{skill}\")\n",
    "skilled_agent.remember_latest_function()"
   ]
  },
  {
   "cell_type": "code",
   "execution_count": null,
   "metadata": {},
   "outputs": [],
   "source": [
    "task = \"print all the cards from the MTG set Strixhaven, only the ones that start with G\"\n",
    "skill_prompt = f\"Use provided functions to {task}\"\n",
    "skilled_agent.use_skills = True\n",
    "user_proxy.initiate_chat(skilled_agent, message=skill_prompt, clear_history=True)\n",
    "skilled_agent.use_skills = False\n"
   ]
  },
  {
   "cell_type": "code",
   "execution_count": null,
   "metadata": {},
   "outputs": [],
   "source": [
    "#skilled_agent.function_store.get_relevant_functions('get cards from a set M21')\n",
    "skilled_agent.function_store.vec_db.peek()"
   ]
  }
 ],
 "metadata": {
  "kernelspec": {
   "display_name": "Python 3",
   "language": "python",
   "name": "python3"
  },
  "language_info": {
   "codemirror_mode": {
    "name": "ipython",
    "version": 3
   },
   "file_extension": ".py",
   "mimetype": "text/x-python",
   "name": "python",
   "nbconvert_exporter": "python",
   "pygments_lexer": "ipython3",
   "version": "3.10.12"
  }
 },
 "nbformat": 4,
 "nbformat_minor": 2
}
